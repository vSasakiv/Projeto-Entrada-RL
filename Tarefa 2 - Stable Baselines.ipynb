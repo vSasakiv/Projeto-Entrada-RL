{
 "cells": [
  {
   "attachments": {},
   "cell_type": "markdown",
   "metadata": {},
   "source": [
    "<img src=\"https://imgur.com/3U3hI1u.png\" width=\"100%\" />"
   ]
  },
  {
   "attachments": {},
   "cell_type": "markdown",
   "metadata": {},
   "source": [
    "#### Boas vindas a sua segunda e última tarefa de Aprendizado por Reforço!\n",
    "\n",
    "Neste exercício, você deverá implementar e comparar diferentes algoritmos de **Aprendizado por Reforço Profundo** utilizando a biblioteca _[Stable Baselines 3](https://stable-baselines3.readthedocs.io/en/master/)_.\n",
    "\n",
    "A _Stable Baselines_ é uma biblioteca de Aprendizado por Reforço que implementa diversos algoritmos de agentes, além de várias funcionalidades úteis para seu treinamento. Suas implementações são bem simples e intuitivas, mas sem deixarem de ser otimizadas e poderosas, buscando facilitar o desenvolvimento de projetos de reforço de alta qualidade.\n",
    "\n",
    "Antes de começar a tarefa, é importante acessar e se familiarizar com o tutorial da biblioteca disponível neste repositório! Depois de rodar o guia, você já estará capaz de completar este trabalho."
   ]
  },
  {
   "attachments": {},
   "cell_type": "markdown",
   "metadata": {},
   "source": [
    "## Escolha do Ambiente\n",
    "\n",
    "Antes de analisar o possíveis algoritmos, o primeiro passo é escolher qual ambiente você quer resolver! Para esta tarefa, separamos dois possíveis ambientes diferentes, em ordem de dificuldade, que você poderá escolher: **CartPole** e **Pendulum**. Lembrando que, quanto mais difícil um ambiente, mais demorado será o treinamento.\n",
    "\n",
    "A seguir, estão as descrições de cada um deles:"
   ]
  },
  {
   "attachments": {},
   "cell_type": "markdown",
   "metadata": {},
   "source": [
    "<h2 align=\"center\">CartPole</h2>\n",
    "<img src=\"https://bytepawn.com/images/cartpole.gif\" width=50% />\n",
    "\n",
    "**CartPole** é o ambiente de Aprendizado por Reforço mais comum do Gym, no qual deve-se balancear um pêndulo invertido conectado a um carrinho, somente controlando os movimentos do carrinho."
   ]
  },
  {
   "attachments": {},
   "cell_type": "markdown",
   "metadata": {},
   "source": [
    "### Características do Ambiente\n",
    "\n",
    "O **Espaço de Observação** do CartPole é definido por 4 informações:\n",
    "\n",
    "<br>\n",
    "\n",
    "|     | Informação                         | Min     | Max    |\n",
    "| :-- | :--------------------------------- | :-----: | :----: |\n",
    "| 0   | Posição do Carrinho                | -4.8    | 4.8    |\n",
    "| 1   | Velocidade do Carrinho             | -Inf    | Inf    |\n",
    "| 2   | Ângulo da Barra                    | -24 deg | 24 deg |\n",
    "| 3   | Velocidade na Extremidade da Barra | -Inf    | Inf    |\n",
    "\n",
    "<br>\n",
    "\n",
    "A posição do carrinho vai de -4.8 a 4.8, mas ele perde o episódio caso saia dos limites de -2.4 e 2.4. Da mesma forma, o ângulo da barra vai de -24° a 24°, porém o episódio acaba caso a barra saia dos limites de -12° e 12°.\n",
    "\n",
    "Já o **Espaço de Ação** é composto por duas ações únicas: mover o carrinho para a **esquerda** ou para a **direita**.\n",
    "\n",
    "Quando queremos mover o carrinho para a esquerda, fazemos um `env.step(0)`; quando queremos movê-lo para a direita, enviamos um `env.step(1)`\n",
    "\n",
    "| Ação | Significado           |\n",
    "| :--- | :-------------------- |\n",
    "| 0    | Mover para a esquerda |\n",
    "| 1    | Mover para a direito  |\n",
    "\n",
    "Por fim, cada vez que tomamos uma ação, recebemos do ambiente uma **recompensa**, que é igual a +1 para cada instante que passa sem o agente perder. Assim, o CartPole é incentivado a sobreviver por mais tempo."
   ]
  },
  {
   "attachments": {},
   "cell_type": "markdown",
   "metadata": {},
   "source": [
    "Para testar o modelo, vamos precisar de 2 bibliotecas: **gym** (para inicialização dos ambientes) e **stable_baselines3** (para inicialização e avaliação dos modelos):"
   ]
  },
  {
   "cell_type": "code",
   "execution_count": 1,
   "metadata": {},
   "outputs": [
    {
     "name": "stdout",
     "output_type": "stream",
     "text": [
      "Using cpu device\n",
      "Wrapping the env with a `Monitor` wrapper\n",
      "Wrapping the env in a DummyVecEnv.\n",
      "Recompensa Média: 8.60 +/- 0.4898979485566356\n"
     ]
    },
    {
     "name": "stderr",
     "output_type": "stream",
     "text": [
      "d:\\Python\\Turing\\Trainee-RL-2021\\.venv\\Lib\\site-packages\\stable_baselines3\\common\\evaluation.py:67: UserWarning: Evaluation environment is not wrapped with a ``Monitor`` wrapper. This may result in reporting modified episode lengths and rewards, if other wrappers happen to modify these. Consider wrapping environment first with ``Monitor`` wrapper.\n",
      "  warnings.warn(\n"
     ]
    }
   ],
   "source": [
    "import gymnasium as gym\n",
    "from stable_baselines3.common.evaluation import evaluate_policy\n",
    "from stable_baselines3 import PPO\n",
    "\n",
    "# Definindo ambiente\n",
    "env = gym.make(\"CartPole-v1\")\n",
    "\n",
    "# Definindo modelo\n",
    "model = PPO(\"MlpPolicy\", env, seed=1, verbose=1)\n",
    "\n",
    "# Avaliando o agente\n",
    "mean_reward, std_reward = evaluate_policy(model, env, n_eval_episodes=5, deterministic=True)\n",
    "\n",
    "print(f\"Recompensa Média: {mean_reward:.2f} +/- {std_reward}\")"
   ]
  },
  {
   "attachments": {},
   "cell_type": "markdown",
   "metadata": {},
   "source": [
    "<h2 align=\"center\">Pendulum</h2>\n",
    "\n",
    "<img src=\"https://www.gymlibrary.ml/_static/videos/classic_control/pendulum.gif\" width=30% />\n",
    "\n",
    "**Pendulum** é um ambiente do Gym que simula um pêndulo pendurado por um ponto tentando se balancear de cabeça para baixo. O agente deve um torque no pêndulo de forma que ele se levante e fique parado em pé."
   ]
  },
  {
   "attachments": {},
   "cell_type": "markdown",
   "metadata": {},
   "source": [
    "### Características do Ambiente\n",
    "\n",
    "O **Espaço de Observação** do ambiente é definido por 8 informações.\n",
    "\n",
    "| Estado    | Informação                                     |\n",
    "| :-------- | :--------------------------------------------- |\n",
    "| 0         | Posição no eixo _x_ da ponta do pêndulo        |\n",
    "| 1         | Posição no eixo _y_ da ponta do pêndulo        |\n",
    "| 2         | Velocidade angular do pêndulo                  |\n",
    "\n",
    "Já o **Espaço de Ação** é um espaço **contínuo** do torque aplicado no pêndulo.\n",
    "\n",
    "| Ação | Significado     | Intervalo   |\n",
    "| :--- | :-------------- | :---------- |\n",
    "| 0    | Torque          | $-2$ a $+2$ |\n",
    "\n",
    "Por fim, cada vez que tomamos uma ação, recebemos do ambiente uma **recompensa**, que segue a seguinte equação:\n",
    "\n",
    "$$r = -(\\theta{}^2 + 0.1 * \\dot{\\theta}^2 + 0.001 * \\tau{})$$\n",
    "\n",
    "Desta forma, temos que a recompensa é menor quando o ângulo do pêndulo é menor (mais em pé), quando a velocidade angular é baixa, e quando usamos pouco torque.\n",
    "\n",
    "Por ser um ambiente com espaço de ação contínuo, os algoritmos que podemos usar serão diferentes, e o treinamento pode ser mais demorado."
   ]
  },
  {
   "attachments": {},
   "cell_type": "markdown",
   "metadata": {},
   "source": [
    "### Ambiente\n",
    "\n",
    "Para criar o ambiente, basta rodar a linha de código a seguir:"
   ]
  },
  {
   "cell_type": "code",
   "execution_count": 2,
   "metadata": {},
   "outputs": [],
   "source": [
    "env = gym.make(\"Pendulum-v1\")"
   ]
  },
  {
   "attachments": {},
   "cell_type": "markdown",
   "metadata": {},
   "source": [
    "### Exercício 1 - Testando Modelos\n",
    "\n",
    "Caro piloto, agora que você conhece esses dois ambientes, é hora de brincar com eles. Você deverá testar diferentes algoritmos (a seu critério), e ver sua recompensa média. Para ver quais as limitações dos modelos, veja esse [link](https://stable-baselines3.readthedocs.io/en/master/guide/algos.html). Abaixo, criamos uma função que será útil para comparar os modelos posteriormente."
   ]
  },
  {
   "cell_type": "code",
   "execution_count": 3,
   "metadata": {},
   "outputs": [],
   "source": [
    "def getValues(model, env, n_episodes, info_dict):\n",
    "    model_name = str(model.__class__).split(\".\")[-1][:-2]\n",
    "\n",
    "    mean_reward, std_reward = evaluate_policy(model, env, n_eval_episodes=n_episodes, deterministic=True)\n",
    "    \n",
    "    info_dict[model_name] = {}\n",
    "    info_dict[model_name][\"mean_reward\"] = mean_reward\n",
    "    info_dict[model_name][\"std_reward\"] = std_reward\n",
    "    \n",
    "    return info_dict\n",
    "\n",
    "algorithms_dict = {}"
   ]
  },
  {
   "attachments": {},
   "cell_type": "markdown",
   "metadata": {},
   "source": [
    "#### Treinando e Avaliando seu próprio modelo\n",
    "\n",
    "Primeiramente, agora você deve decidir em qual ambiente você deseja treinar seu agente. Para isto, basta tirar o comentário da linha referente ao ambiente escolhido:"
   ]
  },
  {
   "cell_type": "code",
   "execution_count": 4,
   "metadata": {},
   "outputs": [],
   "source": [
    "# env_name = \"CartPole-v1\"\n",
    "env_name = \"Pendulum-v1\""
   ]
  },
  {
   "cell_type": "code",
   "execution_count": 5,
   "metadata": {},
   "outputs": [],
   "source": [
    "import time # importa time para verificar tempo de treinamento de cada algorítmo"
   ]
  },
  {
   "attachments": {},
   "cell_type": "markdown",
   "metadata": {},
   "source": [
    "Em seguida, você está livre para testar diferentes algoritmos para seu ambiente!"
   ]
  },
  {
   "cell_type": "code",
   "execution_count": null,
   "metadata": {},
   "outputs": [],
   "source": [
    "from stable_baselines3 import A2C # Importe o modelo do stable_baselines3\n",
    "\n",
    "# Definindo o ambiente\n",
    "env = gym.make(env_name)\n",
    "start = time.time()\n",
    "\n",
    "model = A2C(\"MlpPolicy\", env, verbose=1, seed=1) # Defina o modelo\n",
    "model.learn(total_timesteps=25000) # Treine o modelo\n",
    "n_episodes = 500 # Defina o número de episódios\n",
    "\n",
    "end = time.time()\n",
    "# Avaliando o agente e guardando o desempenho no dicionário\n",
    "algorithms_dict = getValues(model, env, n_episodes, algorithms_dict)\n",
    "algorithms_dict[\"A2C\"][\"time\"] = end - start"
   ]
  },
  {
   "cell_type": "code",
   "execution_count": null,
   "metadata": {},
   "outputs": [],
   "source": [
    "from stable_baselines3 import PPO # Importe o modelo do stable_baselines3\n",
    "\n",
    "# Definindo o ambiente\n",
    "env = gym.make(env_name)\n",
    "start = time.time()\n",
    "\n",
    "model = PPO(\"MlpPolicy\", env, verbose=1, seed=1) # Defina o modelo\n",
    "model.learn(total_timesteps=25000) # Treine o modelo\n",
    "n_episodes = 500 # Defina o número de episódios\n",
    "\n",
    "end = time.time()\n",
    "# Avaliando o agente e guardando o desempenho no dicionário\n",
    "algorithms_dict = getValues(model, env, n_episodes, algorithms_dict)\n",
    "algorithms_dict[\"PPO\"][\"time\"] = end - start"
   ]
  },
  {
   "cell_type": "code",
   "execution_count": null,
   "metadata": {},
   "outputs": [],
   "source": [
    "import numpy as np\n",
    "from stable_baselines3 import DDPG # Importe o modelo do stable_baselines3\n",
    "from stable_baselines3.common.noise import NormalActionNoise, OrnsteinUhlenbeckActionNoise\n",
    "# MODELO COPIADO DA DOCUMENTAÇÃO PARA ANALISAR SEU COMPORTAMENTO E REWARD\n",
    "\n",
    "# Definindo o ambiente\n",
    "env = gym.make(env_name)\n",
    "start = time.time()\n",
    "\n",
    "n_actions = env.action_space.shape[-1]\n",
    "action_noise = NormalActionNoise(mean=np.zeros(n_actions), sigma=0.1 * np.ones(n_actions))\n",
    "\n",
    "model = DDPG(\"MlpPolicy\", env, verbose=1, action_noise=action_noise) # Defina o modelo\n",
    "model.learn(total_timesteps=10000) # Treine o modelo\n",
    "n_episodes = 500 # Defina o número de episódios\n",
    "\n",
    "end = time.time()\n",
    "# Avaliando o agente e guardando o desempenho no dicionário\n",
    "algorithms_dict = getValues(model, env, n_episodes, algorithms_dict)\n",
    "algorithms_dict[\"DDPG\"][\"time\"] = end-start\n"
   ]
  },
  {
   "cell_type": "code",
   "execution_count": 9,
   "metadata": {},
   "outputs": [
    {
     "name": "stdout",
     "output_type": "stream",
     "text": [
      "{'mean_reward': -151.28744262332702, 'std_reward': 91.2532883779467, 'time': 91.71549010276794}\n"
     ]
    }
   ],
   "source": [
    "# Perfomance do algorítmo DDPG dado pela documentação\n",
    "print(algorithms_dict['DDPG'])"
   ]
  },
  {
   "cell_type": "code",
   "execution_count": null,
   "metadata": {},
   "outputs": [],
   "source": [
    "# Definindo o ambiente\n",
    "env = gym.make(env_name)\n",
    "start = time.time()\n",
    "\n",
    "n_actions = env.action_space.shape[-1]\n",
    "action_noise = OrnsteinUhlenbeckActionNoise(mean=np.zeros(n_actions), sigma=0.1 * np.ones(n_actions))\n",
    "\n",
    "model = DDPG(\"MlpPolicy\", env, verbose=1, action_noise=action_noise) # Defina o modelo\n",
    "model.learn(total_timesteps=10000) # Treine o modelo\n",
    "n_episodes = 500 # Defina o número de episódios\n",
    "\n",
    "end = time.time()\n",
    "# Avaliando o agente e guardando o desempenho no dicionário\n",
    "algorithms_dict = getValues(model, env, n_episodes, algorithms_dict)\n",
    "algorithms_dict[\"DDPG\"][\"time\"] = end-start"
   ]
  },
  {
   "cell_type": "code",
   "execution_count": null,
   "metadata": {},
   "outputs": [],
   "source": [
    "from stable_baselines3 import SAC # Importe o modelo do stable_baselines3\n",
    "\n",
    "# Definindo o ambiente\n",
    "env = gym.make(env_name)\n",
    "start = time.time()\n",
    "\n",
    "model = SAC(\"MlpPolicy\", env, verbose=1) # Defina o modelo\n",
    "model.learn(total_timesteps=20000) # Treine o modelo\n",
    "n_episodes = 500 # Defina o número de episódios\n",
    "\n",
    "end = time.time()\n",
    "# Avaliando o agente e guardando o desempenho no dicionário\n",
    "algorithms_dict = getValues(model, env, n_episodes, algorithms_dict)\n",
    "algorithms_dict[\"SAC\"][\"time\"] = end-start"
   ]
  },
  {
   "attachments": {},
   "cell_type": "markdown",
   "metadata": {},
   "source": [
    "A seguir, detalhe um pouco mais quais foram os algoritmos testados bem como a performance obtida por cada um.\n",
    "\n",
    "Este detalhamento pode ser feito por meio de um ou mais gráficos mostrando o desempenho dos modelos, ou simplesmente por texto."
   ]
  },
  {
   "cell_type": "code",
   "execution_count": 16,
   "metadata": {},
   "outputs": [
    {
     "data": {
      "text/plain": [
       "Text(0.5, 0, 'Modelo')"
      ]
     },
     "execution_count": 16,
     "metadata": {},
     "output_type": "execute_result"
    },
    {
     "data": {
      "image/png": "[encoded data removed]",
      "text/plain": [
       "<Figure size 1200x1200 with 3 Axes>"
      ]
     },
     "metadata": {},
     "output_type": "display_data"
    }
   ],
   "source": [
    "### Espaço para o Piloto criar gráficos ou textos para mostrar os diferentes resultados entre modelos\n",
    "import matplotlib.pyplot as plt\n",
    "\n",
    "x_graph = list(algorithms_dict.keys()) # obtemos os valores que iram no eixo x, os nomes dos modelos\n",
    "mean_rewards = [] # listas contendo os critérios que serão avaliados\n",
    "std_rewards = []\n",
    "times = []\n",
    "for key, values in algorithms_dict.items():\n",
    "    mean_rewards.append(values[\"mean_reward\"])\n",
    "    std_rewards.append(values[\"std_reward\"])\n",
    "    times.append(values[\"time\"])\n",
    "\n",
    "fig, ax = plt.subplots(2, 2, figsize=(12, 12))\n",
    "\n",
    "fig.delaxes(ax[1, 1])\n",
    "\n",
    "ax[0, 0].bar(x_graph, mean_rewards)\n",
    "ax[0, 0].set_title(\"Modelos vs Recompensa Média (maior é melhor)\")\n",
    "ax[0, 0].set_ylabel(\"Recompensa Média\")\n",
    "ax[0, 0].set_xlabel(\"Modelo\")\n",
    "\n",
    "ax[1, 0].bar(x_graph, std_rewards)\n",
    "ax[1, 0].set_title(\"Modelos vs Desvio padrão (menor é melhor)\")\n",
    "ax[1, 0].set_ylabel(\"Desvio padrão\")\n",
    "ax[1, 0].set_xlabel(\"Modelo\")\n",
    "\n",
    "ax[0, 1].bar(x_graph, times)\n",
    "ax[0, 1].set_title(\"Modelos vs Tempo de treinamento (menor é melhor)\")\n",
    "ax[0, 1].set_ylabel(\"Tempo de treinamento (s)\")\n",
    "ax[0, 1].set_xlabel(\"Modelo\")"
   ]
  },
  {
   "attachments": {},
   "cell_type": "markdown",
   "metadata": {},
   "source": [
    "# Análise\n",
    "## Ambiente\n",
    "\n",
    "Neste ambiente, podemos notar que a recompensa tem expressão: $$r = -(\\theta{}^2 + 0.1 * \\dot{\\theta}^2 + 0.001 * \\tau{})$$\n",
    "Sendo theta o ângulo que o pêndulo faz com a vertical conforme a figura abaixo:\n",
    "<img src=\"img/pendulo.png\"  width=\"600\" height=\"400\"> <br>\n",
    "Com isso em mente, o estado que desejamos obter deve ter $\\theta{} = 0$, $\\dot{\\theta} = 0$ e $\\tau{} = 0$, substituindo na fórmula, podemos perceber que a recompensa ideal é $r = 0$ <br>\n",
    "Além disso podemos verificar que os espaços de atuação são contínuos, então é provável que os modelos voltados para problemas discretos não se deêm tão bem com este problema.\n"
   ]
  },
  {
   "attachments": {},
   "cell_type": "markdown",
   "metadata": {},
   "source": [
    "\n",
    "## Modelos\n",
    "Nesta análise foram testados os modelos A2C, PPO, DDPG e SAC <br>\n",
    "O modelo A2C (Advantage Actor-Critic) utiliza várias agentes em paralelos, que coletam dados sobre o ambiente executando ações, e esses dados são enviados para atualizar os pesos das RNAs dos atores e dos críticos. <br>\n",
    "Já o modelo PPO (Proximal Policy Optimization) funciona de forma parecida com A2C, possuíndo também os múltiplos agentes em paralelo mas possuí algumas otimizações, como envio de menos dados por mais passos, resultando contas mais simples e menos tempo de treinamento. <br>\n",
    "O modelo DDPG (Deep Deterministic Policy Gradient) atua em espaços de ação contínuo, e utiliza primariamente equações de bellman (não sei explicar oque são) para aprender as ações e as políticas. <br>\n",
    "Por fim, o modelo SAC (Soft Actor-Critic) tem como ideia principal e redução da entropia na política\n",
    "ou seja, tenta por reduzir a aleatoriedade da política, desta forma, quando um agente realiza uma ação\n",
    "se utilizando da política, ao ínves de máximizar o retorno, tenta máximizar uma função retorno menos entropia. <br>\n",
    "\n",
    "Verificando os gráficos, logo de cara é possível perceber que os modelos DDPG e SAC possuem desempenho bastante superior quanto à recompensa média que os outros dois algorítmos, isto provavelmente se da pelo fato destes dois serem modelos voltados para ambientes contínuos, enquanto A2C e PPO são mais voltados para ambientes discretos.\n",
    "\n",
    "Em quesito de desvio padrão, podemos ver que ambos DDPG e SAC possuem desvio muito parecido não sendo muito esclarecedor sobre qual deve ser escolhido\n",
    "\n",
    "O desempate vem pelo tempo de treinamento, onde podemos perceber que o SAC possui um tempo de treinamento muito elevado em comparação com todos os outros modelos\n"
   ]
  },
  {
   "attachments": {},
   "cell_type": "markdown",
   "metadata": {},
   "source": [
    "### Escolha do Algoritmo\n",
    "\n",
    "Após testar e analisar diversos algoritmos diferentes, qual foi o escolhido?\n",
    "\n",
    "_Pergunta Extra:_ você usou algum critério para escolher quais algoritmos seriam testados?"
   ]
  },
  {
   "cell_type": "code",
   "execution_count": 13,
   "metadata": {},
   "outputs": [],
   "source": [
    "### Qual foi o algoritmo escolhido?\n",
    "# O algorítmo escolhido foi DDPG!\n",
    "# Os critérios utilizados foram descritos na análise"
   ]
  }
 ],
 "metadata": {
  "interpreter": {
   "hash": "c7f18c8a75fd108ead44a979ee6b583a0b7ac14f61cb5b6828c4aa8a7a81d42e"
  },
  "kernelspec": {
   "display_name": "Python 3 (ipykernel)",
   "language": "python",
   "name": "python3"
  },
  "language_info": {
   "codemirror_mode": {
    "name": "ipython",
    "version": 3
   },
   "file_extension": ".py",
   "mimetype": "text/x-python",
   "name": "python",
   "nbconvert_exporter": "python",
   "pygments_lexer": "ipython3",
   "version": "3.11.2"
  }
 },
 "nbformat": 4,
 "nbformat_minor": 4
}
